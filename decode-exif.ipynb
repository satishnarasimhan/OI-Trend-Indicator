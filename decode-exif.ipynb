{
  "nbformat": 4,
  "nbformat_minor": 0,
  "metadata": {
    "colab": {
      "name": "exif.ipynb",
      "provenance": [],
      "authorship_tag": "ABX9TyN0V3EwDhQCyjzJob75Z+5A",
      "include_colab_link": true
    },
    "kernelspec": {
      "name": "python3",
      "display_name": "Python 3"
    },
    "language_info": {
      "name": "python"
    }
  },
  "cells": [
    {
      "cell_type": "markdown",
      "metadata": {
        "id": "view-in-github",
        "colab_type": "text"
      },
      "source": [
        "<a href=\"https://colab.research.google.com/github/satishnarasimhan/OI-Trend-Indicator/blob/main/decode-exif.ipynb\" target=\"_parent\"><img src=\"https://colab.research.google.com/assets/colab-badge.svg\" alt=\"Open In Colab\"/></a>"
      ]
    },
    {
      "cell_type": "code",
      "metadata": {
        "colab": {
          "base_uri": "https://localhost:8080/"
        },
        "id": "eryZa0REdJ97",
        "outputId": "26fbd8be-cc5b-4007-f977-04d45b9526b4"
      },
      "source": [
        "!pip install exif"
      ],
      "execution_count": 10,
      "outputs": [
        {
          "output_type": "stream",
          "text": [
            "Collecting exif\n",
            "  Downloading https://files.pythonhosted.org/packages/5b/6c/b3792885dd38a1934ac2657364de56d6f0afad2928d4e158767b440c6957/exif-1.3.0-py3-none-any.whl\n",
            "Collecting plum-py>=0.5.0\n",
            "\u001b[?25l  Downloading https://files.pythonhosted.org/packages/26/69/5b2e83a97fc336460860f34b67a02e8ea0de0824090b554964230443995d/plum_py-0.6.0-py3-none-any.whl (64kB)\n",
            "\u001b[K     |████████████████████████████████| 71kB 4.3MB/s \n",
            "\u001b[?25hInstalling collected packages: plum-py, exif\n",
            "Successfully installed exif-1.3.0 plum-py-0.6.0\n"
          ],
          "name": "stdout"
        }
      ]
    },
    {
      "cell_type": "code",
      "metadata": {
        "colab": {
          "base_uri": "https://localhost:8080/"
        },
        "id": "IFerpM-hg8Nq",
        "outputId": "be6854dd-2cf0-4879-9541-b3bfeee0ebf5"
      },
      "source": [
        "from exif import Image\n",
        "image_file = '/content/sample_data/SunFlower.jpg'\n",
        "my_image = Image(image_file)\n",
        "my_image.has_exif\n"
      ],
      "execution_count": 41,
      "outputs": [
        {
          "output_type": "execute_result",
          "data": {
            "text/plain": [
              "True"
            ]
          },
          "metadata": {
            "tags": []
          },
          "execution_count": 41
        }
      ]
    },
    {
      "cell_type": "code",
      "metadata": {
        "colab": {
          "base_uri": "https://localhost:8080/",
          "height": 35
        },
        "id": "IeA-ZVHvkCx9",
        "outputId": "6c486ebc-af3e-4bff-ed42-49bc0b515453"
      },
      "source": [
        "my_image.gps_map_datum"
      ],
      "execution_count": 53,
      "outputs": [
        {
          "output_type": "execute_result",
          "data": {
            "application/vnd.google.colaboratory.intrinsic+json": {
              "type": "string"
            },
            "text/plain": [
              "'WGS-84'"
            ]
          },
          "metadata": {
            "tags": []
          },
          "execution_count": 53
        }
      ]
    },
    {
      "cell_type": "code",
      "metadata": {
        "colab": {
          "base_uri": "https://localhost:8080/",
          "height": 35
        },
        "id": "znMyy56PkCZ9",
        "outputId": "b6dc1afb-3a46-4fba-c838-ff1db8bcfccf"
      },
      "source": [
        "my_image.model"
      ],
      "execution_count": 46,
      "outputs": [
        {
          "output_type": "execute_result",
          "data": {
            "application/vnd.google.colaboratory.intrinsic+json": {
              "type": "string"
            },
            "text/plain": [
              "'2019:05:08 18:05:54'"
            ]
          },
          "metadata": {
            "tags": []
          },
          "execution_count": 46
        }
      ]
    },
    {
      "cell_type": "code",
      "metadata": {
        "colab": {
          "base_uri": "https://localhost:8080/",
          "height": 35
        },
        "id": "gxsuw0m9knaz",
        "outputId": "fbd0dfa8-5836-4cc9-b995-6cf2a849ca06"
      },
      "source": [
        "my_image.datetime_original"
      ],
      "execution_count": 44,
      "outputs": [
        {
          "output_type": "execute_result",
          "data": {
            "application/vnd.google.colaboratory.intrinsic+json": {
              "type": "string"
            },
            "text/plain": [
              "'2019:05:08 18:05:54'"
            ]
          },
          "metadata": {
            "tags": []
          },
          "execution_count": 44
        }
      ]
    },
    {
      "cell_type": "code",
      "metadata": {
        "colab": {
          "base_uri": "https://localhost:8080/",
          "height": 35
        },
        "id": "zG2cVK6ck52C",
        "outputId": "dc926f96-792c-4056-ec85-4a4d357b2b19"
      },
      "source": [
        "my_image.datetime_digitized"
      ],
      "execution_count": 45,
      "outputs": [
        {
          "output_type": "execute_result",
          "data": {
            "application/vnd.google.colaboratory.intrinsic+json": {
              "type": "string"
            },
            "text/plain": [
              "'2019:05:08 18:05:54'"
            ]
          },
          "metadata": {
            "tags": []
          },
          "execution_count": 45
        }
      ]
    },
    {
      "cell_type": "code",
      "metadata": {
        "colab": {
          "base_uri": "https://localhost:8080/",
          "height": 35
        },
        "id": "SLky9dXuqk2c",
        "outputId": "04f58dbc-094a-4b83-e207-d7aa15cd46df"
      },
      "source": [
        "my_image.software"
      ],
      "execution_count": 47,
      "outputs": [
        {
          "output_type": "execute_result",
          "data": {
            "application/vnd.google.colaboratory.intrinsic+json": {
              "type": "string"
            },
            "text/plain": [
              "'athene_f-user 7.0 NPJS25.93-14-18 3 release-keys'"
            ]
          },
          "metadata": {
            "tags": []
          },
          "execution_count": 47
        }
      ]
    },
    {
      "cell_type": "code",
      "metadata": {
        "id": "RNpSAaUaeRQ4"
      },
      "source": [
        "from google.colab import drive\n",
        "drive.mount('/content/drive')"
      ],
      "execution_count": null,
      "outputs": []
    }
  ]
}